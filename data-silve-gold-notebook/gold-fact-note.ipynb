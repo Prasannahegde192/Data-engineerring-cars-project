{
 "cells": [
  {
   "cell_type": "code",
   "execution_count": 0,
   "metadata": {
    "application/vnd.databricks.v1+cell": {
     "cellMetadata": {
      "byteLimit": 2048000,
      "implicitDf": true,
      "rowLimit": 10000
     },
     "inputWidgets": {},
     "nuid": "6cd0f1af-b9a8-4d17-bb85-4d90de254562",
     "showTitle": false,
     "tableResultSettingsMap": {},
     "title": ""
    }
   },
   "outputs": [],
   "source": [
    "\n",
    "df_silver = spark.sql(\"select * from parquet.`abfss://silver@datastorager.dfs.core.windows.net/car_sales`\")"
   ]
  },
  {
   "cell_type": "code",
   "execution_count": 0,
   "metadata": {
    "application/vnd.databricks.v1+cell": {
     "cellMetadata": {
      "byteLimit": 2048000,
      "rowLimit": 10000
     },
     "inputWidgets": {},
     "nuid": "a26a0918-2fd8-43e5-8a0e-5694259af2d2",
     "showTitle": false,
     "tableResultSettingsMap": {},
     "title": ""
    }
   },
   "outputs": [],
   "source": [
    "df_silver.display()"
   ]
  },
  {
   "cell_type": "code",
   "execution_count": 0,
   "metadata": {
    "application/vnd.databricks.v1+cell": {
     "cellMetadata": {
      "byteLimit": 2048000,
      "rowLimit": 10000
     },
     "inputWidgets": {},
     "nuid": "dafa20f5-61fe-445f-bf58-9fb1e4ac46aa",
     "showTitle": false,
     "tableResultSettingsMap": {},
     "title": ""
    }
   },
   "outputs": [],
   "source": [
    "df_dealer = spark.sql(\"select * from cars_catalog.gold_schema.dim_dealer\")\n",
    "df_branch = spark.sql(\"select * from cars_catalog.gold_schema.dim_branch\")\n",
    "df_model = spark.sql(\"select * from cars_catalog.gold_schema.dim_model\")\n",
    "df_date = spark.sql(\"select * from cars_catalog.gold_schema.dim_date\")\n",
    "\n"
   ]
  },
  {
   "cell_type": "markdown",
   "metadata": {
    "application/vnd.databricks.v1+cell": {
     "cellMetadata": {},
     "inputWidgets": {},
     "nuid": "7b404ed5-2a51-4b31-8ad1-a6e4c9a48c07",
     "showTitle": false,
     "tableResultSettingsMap": {},
     "title": ""
    }
   },
   "source": [
    "bringing keys and joining"
   ]
  },
  {
   "cell_type": "code",
   "execution_count": 0,
   "metadata": {
    "application/vnd.databricks.v1+cell": {
     "cellMetadata": {
      "byteLimit": 2048000,
      "rowLimit": 10000
     },
     "inputWidgets": {},
     "nuid": "de44c5e3-d58e-4ab4-bed6-4d5b01e0ca10",
     "showTitle": false,
     "tableResultSettingsMap": {},
     "title": ""
    }
   },
   "outputs": [],
   "source": [
    "df_fact= df_silver.join(df_dealer, df_silver.Dealer_ID == df_dealer.Dealer_ID, \"left\")\\\n",
    "    .join(df_branch, df_silver.Branch_ID == df_branch.Branch_ID, \"left\")\\\n",
    "    .join(df_model, df_silver.Model_ID == df_model.Model_ID, \"left\")\\\n",
    "    .join(df_date, df_silver.Date_ID == df_date.Date_ID, \"left\")\\\n",
    "    .select(df_silver[\"Revenue\"],df_silver[\"Units_Sold\"],df_silver[\"RevenuePerUnit\"],df_branch[\"dim_branch_key\"],df_dealer[\"dim_Dealer_key\"],df_model[\"dim_surrogate_key\"],df_date[\"dim_Date_key\"])"
   ]
  },
  {
   "cell_type": "code",
   "execution_count": 0,
   "metadata": {
    "application/vnd.databricks.v1+cell": {
     "cellMetadata": {
      "byteLimit": 2048000,
      "rowLimit": 10000
     },
     "inputWidgets": {},
     "nuid": "573fabdf-5570-484c-bd91-793c533e0721",
     "showTitle": false,
     "tableResultSettingsMap": {},
     "title": ""
    }
   },
   "outputs": [],
   "source": [
    "df_fact.display()"
   ]
  },
  {
   "cell_type": "code",
   "execution_count": 0,
   "metadata": {
    "application/vnd.databricks.v1+cell": {
     "cellMetadata": {
      "byteLimit": 2048000,
      "rowLimit": 10000
     },
     "inputWidgets": {},
     "nuid": "ee46a350-edf1-4a3a-a9b3-85ca0bed9c11",
     "showTitle": false,
     "tableResultSettingsMap": {},
     "title": ""
    }
   },
   "outputs": [],
   "source": [
    "from delta.tables import DeltaTable"
   ]
  },
  {
   "cell_type": "code",
   "execution_count": 0,
   "metadata": {
    "application/vnd.databricks.v1+cell": {
     "cellMetadata": {
      "byteLimit": 2048000,
      "rowLimit": 10000
     },
     "inputWidgets": {},
     "nuid": "65d5a41a-2b0e-491b-8358-886802bccbac",
     "showTitle": false,
     "tableResultSettingsMap": {},
     "title": ""
    }
   },
   "outputs": [],
   "source": [
    "if spark.catalog.tableExists('fact_sales'):\n",
    "    deltatbl = Deltatable.forname(spark,'cars_catalog.gold_schema.fact_sales')\n",
    "\n",
    "    deltatbl.alias(\"trg\").merge(df_fact.alias(\"src\"), \"trg.dim_branch_key = src.dim_branch_key and trg.dim_Dealer_key = src.dim_Dealer_key and trg.dim_surrogate_key = src.dim_surrogate_key and trg.dim_Date_key = src.dim_Date_key\")\\\n",
    "    .whenMatchedUpdateAll()\\\n",
    "    .whenNotMatchedInsertAll()\n",
    "\n",
    "else:\n",
    "    df_fact.write.format(\"delta\")\\\n",
    "        .mode(\"Overwrite\")\\\n",
    "        .option('path',\"abfss://gold@datastorager.dfs.core.windows.net/fact_sales\")\\\n",
    "        .saveAsTable(\"cars_catalog.gold_schema.fact_sales\")"
   ]
  },
  {
   "cell_type": "code",
   "execution_count": 0,
   "metadata": {
    "application/vnd.databricks.v1+cell": {
     "cellMetadata": {
      "byteLimit": 2048000,
      "implicitDf": true,
      "rowLimit": 10000
     },
     "inputWidgets": {},
     "nuid": "117e5b74-4cef-4e00-90d9-8c719e63821c",
     "showTitle": false,
     "tableResultSettingsMap": {},
     "title": ""
    }
   },
   "outputs": [],
   "source": [
    "%sql\n",
    "select * from cars_catalog.gold_schema.fact_sales;"
   ]
  },
  {
   "cell_type": "code",
   "execution_count": 0,
   "metadata": {
    "application/vnd.databricks.v1+cell": {
     "cellMetadata": {},
     "inputWidgets": {},
     "nuid": "fdd24aac-2c6d-4c3c-ab47-2376b61c622f",
     "showTitle": false,
     "tableResultSettingsMap": {},
     "title": ""
    }
   },
   "outputs": [],
   "source": []
  }
 ],
 "metadata": {
  "application/vnd.databricks.v1+notebook": {
   "computePreferences": null,
   "dashboards": [],
   "environmentMetadata": {
    "base_environment": "",
    "environment_version": "3"
   },
   "inputWidgetPreferences": null,
   "language": "python",
   "notebookMetadata": {
    "mostRecentlyExecutedCommandWithImplicitDF": {
     "commandId": 5566387410586447,
     "dataframes": [
      "_sqldf"
     ]
    },
    "pythonIndentUnit": 4
   },
   "notebookName": "gold-fact-note",
   "widgets": {}
  },
  "language_info": {
   "name": "python"
  }
 },
 "nbformat": 4,
 "nbformat_minor": 0
}
